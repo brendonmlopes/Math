{
  "nbformat": 4,
  "nbformat_minor": 0,
  "metadata": {
    "colab": {
      "name": "LogisticChaos.ipynb",
      "provenance": [],
      "authorship_tag": "ABX9TyPc1R62mOKOMo+dROfYosf3"
    },
    "kernelspec": {
      "name": "python3",
      "display_name": "Python 3"
    },
    "language_info": {
      "name": "python"
    }
  },
  "cells": [
    {
      "cell_type": "code",
      "execution_count": null,
      "metadata": {
        "id": "akRIXJ058mEk"
      },
      "outputs": [],
      "source": [
        "import matplotlib.pyplot as plt\n",
        "\n",
        "def diff(x0,r,t):\n",
        "    xs=[]\n",
        "    ys=[]\n",
        "    x1=x0\n",
        "    for i in range(t):\n",
        "        xs.append(x1)\n",
        "        ys.append(i)\n",
        "        x1=r*x0*(1-x0)\n",
        "        x0=x1\n",
        "    return (xs,ys)\n",
        "\n",
        "def plot(x0,r,t):\n",
        "    coord=diff(x0,r,t)\n",
        "    x=coord[0]\n",
        "    y=coord[1]\n",
        "    plt.plot(y,x,c='r')\n",
        "    plt.show()\n",
        "\n",
        "def plotLogistic(x0,t,pDouble=10):\n",
        "    finalXs=[]\n",
        "    for i in range(pDouble):\n",
        "        finalXs.append([])\n",
        "    ys=[]\n",
        "    r=1\n",
        "    dr=0.0001\n",
        "    while r<=4:\n",
        "        finalX=diff(x0,r,t)[0]\n",
        "        for i in range(1,len(finalXs)):\n",
        "                finalXs[i].append(finalX[-i])\n",
        "        ys.append(r)\n",
        "        r+=dr\n",
        "    for i in range(1,len(finalXs)):\n",
        "        plt.scatter(ys,finalXs[i],c='r', s=0.01)\n",
        "    \n",
        "    plt.show()\n",
        "    plt.clf()\n",
        "\n",
        "def show():\n",
        "    print('_'*20)\n",
        "    print('1 - Population modelling')\n",
        "    print('2 - Logistic Map')\n",
        "    choice=input('Option:')\n",
        "\n",
        "    if(choice=='2'):\n",
        "        x0=float(input('x0:'))\n",
        "        t=int(input('t:'))\n",
        "        p=int(input('Period doubling:'))\n",
        "        plotLogistic(x0,t,p)\n",
        "    elif(choice=='1'):\n",
        "        x0=float(input('x0:'))\n",
        "        t=int(input('t:'))\n",
        "        r=float(input('r:'))\n",
        "        plot(x0,r,t)\n",
        "    plt.clf()\n",
        "\n",
        "while 1==1:\n",
        "    show()\n"
      ]
    }
  ]
}